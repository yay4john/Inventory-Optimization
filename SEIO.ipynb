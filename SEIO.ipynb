{
 "cells": [
  {
   "cell_type": "code",
   "execution_count": 8,
   "metadata": {},
   "outputs": [],
   "source": [
    "import streamlit as st\n",
    "import numpy as np\n",
    "import matplotlib.pyplot as plt"
   ]
  },
  {
   "cell_type": "code",
   "execution_count": 9,
   "metadata": {},
   "outputs": [],
   "source": [
    "# Function to calculate safety stock\n",
    "def calculate_safety_stock(demand_mean, demand_std, lead_time, service_level):\n",
    "    z_scores = {90: 1.28, 95: 1.65, 99: 2.33}\n",
    "    z = z_scores.get(service_level, 1.65)  # Default to 95%\n",
    "    safety_stock = z * demand_std * np.sqrt(lead_time)\n",
    "    return safety_stock"
   ]
  },
  {
   "cell_type": "code",
   "execution_count": null,
   "metadata": {},
   "outputs": [],
   "source": [
    "# Streamlit UI Setup\n",
    "st.title(\"Inventory Optimization Tool\")\n",
    "st.sidebar.header(\"Input Parameters\")\n",
    "\n",
    "# User Inputs\n",
    "demand_mean = st.sidebar.number_input(\"Average Demand per Period\", min_value=1, value=100)\n",
    "demand_std = st.sidebar.number_input(\"Demand Standard Deviation\", min_value=0, value=20)\n",
    "lead_time = st.sidebar.number_input(\"Lead Time (days)\", min_value=1, value=5)\n",
    "service_level = st.sidebar.selectbox(\"Service Level (%)\", [90, 95, 99], index=1)\n",
    "\n",
    "# demand_mean = 50\n",
    "# demand_std = 10\n",
    "# lead_time = 4\n",
    "# service_level = 95"
   ]
  },
  {
   "cell_type": "code",
   "execution_count": null,
   "metadata": {},
   "outputs": [
    {
     "name": "stdout",
     "output_type": "stream",
     "text": [
      "Recommended Safety Stock: 33 units\n"
     ]
    }
   ],
   "source": [
    "# Compute Safety Stock\n",
    "safety_stock = calculate_safety_stock(demand_mean, demand_std, lead_time, service_level)\n",
    "st.write(f\"### Recommended Safety Stock: {round(safety_stock)} units\")\n",
    "\n",
    "# print(f\"Recommended Safety Stock: {round(safety_stock)} units\")"
   ]
  },
  {
   "cell_type": "code",
   "execution_count": null,
   "metadata": {},
   "outputs": [
    {
     "name": "stderr",
     "output_type": "stream",
     "text": [
      "/var/folders/13/tb353hv16bg0qsrdngc6r2v40000gn/T/ipykernel_96987/696676842.py:11: UserWarning: FigureCanvasAgg is non-interactive, and thus cannot be shown\n",
      "  plt.show()\n"
     ]
    }
   ],
   "source": [
    "# Visualization\n",
    "fig, ax = plt.subplots()\n",
    "x = np.linspace(demand_mean - 3*demand_std, demand_mean + 3*demand_std, 100)\n",
    "y = (1 / (demand_std * np.sqrt(2 * np.pi))) * np.exp(-0.5 * ((x - demand_mean) / demand_std) ** 2)\n",
    "ax.plot(x, y, label=\"Demand Distribution\")\n",
    "ax.axvline(demand_mean, color='r', linestyle='--', label=\"Mean Demand\")\n",
    "ax.axvline(demand_mean + safety_stock, color='g', linestyle='--', label=\"Safety Stock Level\")\n",
    "ax.legend()\n",
    "st.pyplot(fig)\n"
   ]
  },
  {
   "cell_type": "code",
   "execution_count": 13,
   "metadata": {},
   "outputs": [
    {
     "name": "stderr",
     "output_type": "stream",
     "text": [
      "2025-03-23 14:02:34.711 Thread 'MainThread': missing ScriptRunContext! This warning can be ignored when running in bare mode.\n",
      "2025-03-23 14:02:34.712 Thread 'MainThread': missing ScriptRunContext! This warning can be ignored when running in bare mode.\n",
      "2025-03-23 14:02:34.713 Thread 'MainThread': missing ScriptRunContext! This warning can be ignored when running in bare mode.\n",
      "2025-03-23 14:02:34.714 Thread 'MainThread': missing ScriptRunContext! This warning can be ignored when running in bare mode.\n"
     ]
    }
   ],
   "source": [
    "st.write(\"Use the sidebar to adjust parameters and see the impact on safety stock.\")"
   ]
  }
 ],
 "metadata": {
  "kernelspec": {
   "display_name": "Python 3",
   "language": "python",
   "name": "python3"
  },
  "language_info": {
   "codemirror_mode": {
    "name": "ipython",
    "version": 3
   },
   "file_extension": ".py",
   "mimetype": "text/x-python",
   "name": "python",
   "nbconvert_exporter": "python",
   "pygments_lexer": "ipython3",
   "version": "3.13.2"
  }
 },
 "nbformat": 4,
 "nbformat_minor": 2
}
